{
 "cells": [
  {
   "cell_type": "code",
   "execution_count": null,
   "id": "b2f8d241",
   "metadata": {},
   "outputs": [],
   "source": [
    "import numpy as np\n",
    "import matplotlib.pyplot as plt"
   ]
  },
  {
   "cell_type": "code",
   "execution_count": null,
   "id": "5d1248e4",
   "metadata": {},
   "outputs": [],
   "source": [
    "x_vals = np.arange(1.920, 2.081, 0.001)\n",
    "\n",
    "# Polynomial coefficients for p(x) = (x - 2)^9\n",
    "coefficients = [1, -18, 144, -672, 2016, -4032, 5376, -4608, 2304, -512]\n",
    "\n",
    "# Evaluate p(x) via its coefficients\n",
    "p_via_coefficients = np.polyval(coefficients, x_vals)\n",
    "\n",
    "# Create plot of p based on coefficients\n",
    "plt.figure()\n",
    "plt.plot(x_vals, p_via_coefficients, label=\"Via Coefficients\", color=\"blue\")\n",
    "plt.title(\"Evaluation of p(x) via Coefficients\")\n",
    "plt.xlabel(\"x\")\n",
    "plt.ylabel(\"p(x)\")\n",
    "plt.grid()\n",
    "plt.legend()\n",
    "\n",
    "#display the figure\n",
    "\n",
    "plt.show()"
   ]
  },
  {
   "cell_type": "code",
   "execution_count": null,
   "id": "36fa1f23",
   "metadata": {},
   "outputs": [],
   "source": [
    "# Evaluate p(x) via the expression (x - 2)^9\n",
    "p_via_expression = (x_vals - 2) ** 9\n",
    "\n",
    "# Create plot of p based on (x-2)^9\n",
    "plt.figure()\n",
    "plt.plot(x_vals, p_via_expression, label=\"Via (x - 2)^9\", color=\"red\")\n",
    "plt.title(\"Evaluation of p(x) via (x - 2)^9\")\n",
    "plt.xlabel(\"x\")\n",
    "plt.ylabel(\"p(x)\")\n",
    "plt.grid()\n",
    "plt.legend()\n",
    "\n",
    "#display the figure\n",
    "plt.show()"
   ]
  },
  {
   "cell_type": "code",
   "execution_count": null,
   "id": "6d528169",
   "metadata": {},
   "outputs": [],
   "source": [
    "# Code to calculate the maxiumum of f'''(x) on [0, 0.5] for 3.1\n",
    "\n",
    "def f3(x):\n",
    "    return (x**3 - 17 * x + 1) * np.sin(x) + (3 - 9 * x**2) * np.cos(x)\n",
    "\n",
    "# Generate values of x in [0, 0.5]\n",
    "x_values = np.linspace(0, 0.5, 1000)\n",
    "\n",
    "# Compute |f'''(3)(x)| for all x\n",
    "f3_values = np.abs(f3(x_values))\n",
    "\n",
    "# Find the maximum value of |f'''(3)(x)|\n",
    "max_f3 = np.max(f3_values)\n",
    "print(\"Maximum |f^(3)(x)| in [0, 0.5]:\", max_f3)"
   ]
  },
  {
   "cell_type": "code",
   "execution_count": null,
   "id": "ada3347c",
   "metadata": {},
   "outputs": [],
   "source": [
    "# Calculating actual error\n",
    "\n",
    "def f(x):\n",
    "    return (1 + x + x**3)*np.cos(x)\n",
    "\n",
    "def P(x):\n",
    "    return (1 + x - (1/2)*x**2)\n",
    "\n",
    "actual_error = np.abs(f(0.5) - P(0.5))\n",
    "\n",
    "print(actual_error)"
   ]
  },
  {
   "cell_type": "code",
   "execution_count": null,
   "id": "9f929f93",
   "metadata": {},
   "outputs": [],
   "source": []
  }
 ],
 "metadata": {
  "kernelspec": {
   "display_name": "Python 3 (ipykernel)",
   "language": "python",
   "name": "python3"
  },
  "language_info": {
   "codemirror_mode": {
    "name": "ipython",
    "version": 3
   },
   "file_extension": ".py",
   "mimetype": "text/x-python",
   "name": "python",
   "nbconvert_exporter": "python",
   "pygments_lexer": "ipython3",
   "version": "3.11.4"
  }
 },
 "nbformat": 4,
 "nbformat_minor": 5
}
