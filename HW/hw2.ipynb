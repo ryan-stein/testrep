{
 "cells": [
  {
   "cell_type": "code",
   "execution_count": null,
   "id": "21cbae0d",
   "metadata": {},
   "outputs": [],
   "source": [
    "import numpy as np\n",
    "import matplotlib.pyplot as plt\n",
    "import random\n",
    "import math"
   ]
  },
  {
   "cell_type": "code",
   "execution_count": null,
   "id": "57fb8ec6",
   "metadata": {},
   "outputs": [],
   "source": [
    "# The following cell is for part a.)\n",
    "\n",
    "# defining vectors t and y\n",
    "t = np.linspace(0, np.pi, 31)\n",
    "y = np.cos(t)\n",
    "\n",
    "# Computing the sum\n",
    "S = np.sum(t*y)\n",
    "\n",
    "# Printing the sum\n",
    "\n",
    "print(f\"the sum is: {S}\")"
   ]
  },
  {
   "cell_type": "code",
   "execution_count": null,
   "id": "28b45041",
   "metadata": {},
   "outputs": [],
   "source": [
    "# The following cells are for part b.)\n",
    "\n",
    "# defining needed variables for the parametric equations:\n",
    "R = 1.2\n",
    "delta_r = 0.1\n",
    "f = 15\n",
    "p = 0\n",
    "\n",
    "# set range for theta for graphing\n",
    "theta = np.linspace(0, 2*np.pi, 400)\n",
    "\n",
    "#define x and y\n",
    "x = R * (1 + delta_r * np.sin(f * theta + p)) * np.cos(theta)\n",
    "y = R * (1 + delta_r * np.sin(f * theta + p)) * np.sin(theta)\n"
   ]
  },
  {
   "cell_type": "code",
   "execution_count": null,
   "id": "2efa20ac",
   "metadata": {},
   "outputs": [],
   "source": [
    "# Creation of first figure for the parametric curves\n",
    "plt.figure(figsize=(6,6))\n",
    "plt.plot(x, y, label=\"Wavy Circle\")\n",
    "plt.axis(\"equal\")\n",
    "plt.title(\"Wavy Circle\")\n",
    "plt.legend()\n",
    "plt.show()"
   ]
  },
  {
   "cell_type": "code",
   "execution_count": null,
   "id": "2267ee05",
   "metadata": {},
   "outputs": [],
   "source": [
    "# creation of second figure for multiple curves:\n",
    "\n",
    "#set random seed:\n",
    "random.seed(27)\n",
    "\n",
    "plt.figure(figsize=(6,6))\n",
    "for i in range(1, 11):  # i = 1 to 10\n",
    "    R = i\n",
    "    delta_r = 0.05\n",
    "    f = 2 + i\n",
    "    p = random.uniform(0, 2)  # Random phase shift\n",
    "    \n",
    "    x = R * (1 + delta_r * np.sin(f * theta + p)) * np.cos(theta)\n",
    "    y = R * (1 + delta_r * np.sin(f * theta + p)) * np.sin(theta)\n",
    "    \n",
    "    plt.plot(x, y, label=f\"Curve {i}\")\n",
    "\n",
    "plt.axis(\"equal\")\n",
    "plt.title(\"Multiple Wavy Circles\")\n",
    "plt.show()\n"
   ]
  },
  {
   "cell_type": "code",
   "execution_count": null,
   "id": "dbe2b9ca",
   "metadata": {},
   "outputs": [],
   "source": [
    "# Problem 3c\n",
    "\n",
    "def f(x):\n",
    "    y = math.e**x\n",
    "    return y - 1\n",
    "\n",
    "x = 9.999999995000000 * 10**(-10)\n",
    "\n",
    "f(x)"
   ]
  },
  {
   "cell_type": "code",
   "execution_count": null,
   "id": "10e95d5f",
   "metadata": {},
   "outputs": [],
   "source": []
  }
 ],
 "metadata": {
  "kernelspec": {
   "display_name": "Python 3 (ipykernel)",
   "language": "python",
   "name": "python3"
  },
  "language_info": {
   "codemirror_mode": {
    "name": "ipython",
    "version": 3
   },
   "file_extension": ".py",
   "mimetype": "text/x-python",
   "name": "python",
   "nbconvert_exporter": "python",
   "pygments_lexer": "ipython3",
   "version": "3.11.4"
  }
 },
 "nbformat": 4,
 "nbformat_minor": 5
}
